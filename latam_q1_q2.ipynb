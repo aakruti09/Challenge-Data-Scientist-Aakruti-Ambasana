{
 "cells": [
  {
   "cell_type": "markdown",
   "id": "f46f1f11-0c0b-4451-9739-09122c12dd26",
   "metadata": {},
   "source": [
    "# Latam Airlines : Data Scientist Challenge\n",
    "#### By: Aakruti Ambasana"
   ]
  },
  {
   "cell_type": "code",
   "execution_count": 32,
   "id": "5497589c-0df1-4e88-852d-564a2ba27d55",
   "metadata": {
    "id": "e4899c7a-b84f-4d13-9e36-064e74ae29c8",
    "tags": []
   },
   "outputs": [],
   "source": [
    "import pandas as pd\n",
    "import numpy as np\n",
    "import re\n",
    "import seaborn as sb\n",
    "from matplotlib import pyplot as plt\n",
    "from datetime import datetime\n",
    "\n",
    "from sklearn.preprocessing import StandardScaler\n",
    "from sklearn.tree import DecisionTreeRegressor\n",
    "from sklearn.ensemble import RandomForestRegressor, GradientBoostingRegressor\n",
    "from sklearn.pipeline import Pipeline\n",
    "from sklearn.linear_model import LogisticRegression, LinearRegression\n",
    "from sklearn.naive_bayes import GaussianNB\n",
    "\n",
    "from sklearn.model_selection import GridSearchCV, train_test_split\n",
    "from sklearn import tree\n",
    "\n",
    "from sklearn import metrics\n",
    "from sklearn.metrics import confusion_matrix, accuracy_score, classification_report, get_scorer_names, mean_squared_error"
   ]
  },
  {
   "cell_type": "markdown",
   "id": "a6d4f184-636f-4a95-a64f-0ecc7f8791bc",
   "metadata": {},
   "source": [
    "### Loading data"
   ]
  },
  {
   "cell_type": "code",
   "execution_count": 33,
   "id": "c31af7fa-953b-4af2-b9b0-7ce51ede7000",
   "metadata": {
    "colab": {
     "base_uri": "https://localhost:8080/",
     "height": 852
    },
    "id": "15fb9e12-1fff-498e-a87c-a4e820d503c6",
    "outputId": "0d445b06-c2db-42fd-e152-dd669c15f67e",
    "scrolled": true,
    "tags": []
   },
   "outputs": [
    {
     "data": {
      "text/html": [
       "<div>\n",
       "<style scoped>\n",
       "    .dataframe tbody tr th:only-of-type {\n",
       "        vertical-align: middle;\n",
       "    }\n",
       "\n",
       "    .dataframe tbody tr th {\n",
       "        vertical-align: top;\n",
       "    }\n",
       "\n",
       "    .dataframe thead th {\n",
       "        text-align: right;\n",
       "    }\n",
       "</style>\n",
       "<table border=\"1\" class=\"dataframe\">\n",
       "  <thead>\n",
       "    <tr style=\"text-align: right;\">\n",
       "      <th></th>\n",
       "      <th>Fecha-I</th>\n",
       "      <th>Vlo-I</th>\n",
       "      <th>Ori-I</th>\n",
       "      <th>Des-I</th>\n",
       "      <th>Emp-I</th>\n",
       "      <th>Fecha-O</th>\n",
       "      <th>Vlo-O</th>\n",
       "      <th>Ori-O</th>\n",
       "      <th>Des-O</th>\n",
       "      <th>Emp-O</th>\n",
       "      <th>DIA</th>\n",
       "      <th>MES</th>\n",
       "      <th>AÑO</th>\n",
       "      <th>DIANOM</th>\n",
       "      <th>TIPOVUELO</th>\n",
       "      <th>OPERA</th>\n",
       "      <th>SIGLAORI</th>\n",
       "      <th>SIGLADES</th>\n",
       "    </tr>\n",
       "  </thead>\n",
       "  <tbody>\n",
       "    <tr>\n",
       "      <th>0</th>\n",
       "      <td>2017-01-01 23:30:00</td>\n",
       "      <td>226</td>\n",
       "      <td>SCEL</td>\n",
       "      <td>KMIA</td>\n",
       "      <td>AAL</td>\n",
       "      <td>2017-01-01 23:33:00</td>\n",
       "      <td>226</td>\n",
       "      <td>SCEL</td>\n",
       "      <td>KMIA</td>\n",
       "      <td>AAL</td>\n",
       "      <td>1</td>\n",
       "      <td>1</td>\n",
       "      <td>2017</td>\n",
       "      <td>Domingo</td>\n",
       "      <td>I</td>\n",
       "      <td>American Airlines</td>\n",
       "      <td>Santiago</td>\n",
       "      <td>Miami</td>\n",
       "    </tr>\n",
       "    <tr>\n",
       "      <th>1</th>\n",
       "      <td>2017-01-02 23:30:00</td>\n",
       "      <td>226</td>\n",
       "      <td>SCEL</td>\n",
       "      <td>KMIA</td>\n",
       "      <td>AAL</td>\n",
       "      <td>2017-01-02 23:39:00</td>\n",
       "      <td>226</td>\n",
       "      <td>SCEL</td>\n",
       "      <td>KMIA</td>\n",
       "      <td>AAL</td>\n",
       "      <td>2</td>\n",
       "      <td>1</td>\n",
       "      <td>2017</td>\n",
       "      <td>Lunes</td>\n",
       "      <td>I</td>\n",
       "      <td>American Airlines</td>\n",
       "      <td>Santiago</td>\n",
       "      <td>Miami</td>\n",
       "    </tr>\n",
       "    <tr>\n",
       "      <th>2</th>\n",
       "      <td>2017-01-03 23:30:00</td>\n",
       "      <td>226</td>\n",
       "      <td>SCEL</td>\n",
       "      <td>KMIA</td>\n",
       "      <td>AAL</td>\n",
       "      <td>2017-01-03 23:39:00</td>\n",
       "      <td>226</td>\n",
       "      <td>SCEL</td>\n",
       "      <td>KMIA</td>\n",
       "      <td>AAL</td>\n",
       "      <td>3</td>\n",
       "      <td>1</td>\n",
       "      <td>2017</td>\n",
       "      <td>Martes</td>\n",
       "      <td>I</td>\n",
       "      <td>American Airlines</td>\n",
       "      <td>Santiago</td>\n",
       "      <td>Miami</td>\n",
       "    </tr>\n",
       "    <tr>\n",
       "      <th>3</th>\n",
       "      <td>2017-01-04 23:30:00</td>\n",
       "      <td>226</td>\n",
       "      <td>SCEL</td>\n",
       "      <td>KMIA</td>\n",
       "      <td>AAL</td>\n",
       "      <td>2017-01-04 23:33:00</td>\n",
       "      <td>226</td>\n",
       "      <td>SCEL</td>\n",
       "      <td>KMIA</td>\n",
       "      <td>AAL</td>\n",
       "      <td>4</td>\n",
       "      <td>1</td>\n",
       "      <td>2017</td>\n",
       "      <td>Miercoles</td>\n",
       "      <td>I</td>\n",
       "      <td>American Airlines</td>\n",
       "      <td>Santiago</td>\n",
       "      <td>Miami</td>\n",
       "    </tr>\n",
       "    <tr>\n",
       "      <th>4</th>\n",
       "      <td>2017-01-05 23:30:00</td>\n",
       "      <td>226</td>\n",
       "      <td>SCEL</td>\n",
       "      <td>KMIA</td>\n",
       "      <td>AAL</td>\n",
       "      <td>2017-01-05 23:28:00</td>\n",
       "      <td>226</td>\n",
       "      <td>SCEL</td>\n",
       "      <td>KMIA</td>\n",
       "      <td>AAL</td>\n",
       "      <td>5</td>\n",
       "      <td>1</td>\n",
       "      <td>2017</td>\n",
       "      <td>Jueves</td>\n",
       "      <td>I</td>\n",
       "      <td>American Airlines</td>\n",
       "      <td>Santiago</td>\n",
       "      <td>Miami</td>\n",
       "    </tr>\n",
       "  </tbody>\n",
       "</table>\n",
       "</div>"
      ],
      "text/plain": [
       "              Fecha-I Vlo-I Ori-I Des-I Emp-I             Fecha-O Vlo-O Ori-O  \\\n",
       "0 2017-01-01 23:30:00   226  SCEL  KMIA   AAL 2017-01-01 23:33:00   226  SCEL   \n",
       "1 2017-01-02 23:30:00   226  SCEL  KMIA   AAL 2017-01-02 23:39:00   226  SCEL   \n",
       "2 2017-01-03 23:30:00   226  SCEL  KMIA   AAL 2017-01-03 23:39:00   226  SCEL   \n",
       "3 2017-01-04 23:30:00   226  SCEL  KMIA   AAL 2017-01-04 23:33:00   226  SCEL   \n",
       "4 2017-01-05 23:30:00   226  SCEL  KMIA   AAL 2017-01-05 23:28:00   226  SCEL   \n",
       "\n",
       "  Des-O Emp-O  DIA  MES   AÑO     DIANOM TIPOVUELO              OPERA  \\\n",
       "0  KMIA   AAL    1    1  2017    Domingo         I  American Airlines   \n",
       "1  KMIA   AAL    2    1  2017      Lunes         I  American Airlines   \n",
       "2  KMIA   AAL    3    1  2017     Martes         I  American Airlines   \n",
       "3  KMIA   AAL    4    1  2017  Miercoles         I  American Airlines   \n",
       "4  KMIA   AAL    5    1  2017     Jueves         I  American Airlines   \n",
       "\n",
       "   SIGLAORI SIGLADES  \n",
       "0  Santiago    Miami  \n",
       "1  Santiago    Miami  \n",
       "2  Santiago    Miami  \n",
       "3  Santiago    Miami  \n",
       "4  Santiago    Miami  "
      ]
     },
     "execution_count": 33,
     "metadata": {},
     "output_type": "execute_result"
    }
   ],
   "source": [
    "types = {'Vlo-I': 'string', 'Ori-I': 'category', 'Des-I': 'category', \n",
    "         'Emp-I': 'category', 'Vlo-O': 'string', 'Ori-O': 'category', \n",
    "         'Des-O': 'category', 'Emp-O': 'category', 'DIA': 'int', 'MES': 'int', 'AÑO': 'int', \n",
    "         'DIANOM': 'category', 'TIPOVUELO': 'string', 'OPERA': 'category', 'SIGLAORI': 'category', \n",
    "         'SIGLADES': 'category'}\n",
    "path = \"data/dataset_SCL.csv\"\n",
    "data = pd.read_csv(path, dtype=types, parse_dates=[\"Fecha-I\",\"Fecha-O\"])\n",
    "data.head()"
   ]
  },
  {
   "cell_type": "markdown",
   "id": "666e8b6a-b0f9-4a59-843b-bcbda1f441dc",
   "metadata": {
    "id": "22d8577b-5829-4214-8e54-52940558f76e"
   },
   "source": [
    "- Vlo-I contains alpha numeric value.\n",
    "- Vlo-O contains NaN null values.\n",
    "- default is object type. object contains any kind of data like strings, integers, etc.\n",
    "- string datatype contains string.\n",
    "\n",
    "### Converting Vlo-I and Vlo-O into numeric values, as it contains flight number\n",
    "\n",
    "- There are 16 data records in Vlo-O and 5 data records in Vlo-I which contains alpha numeric values."
   ]
  },
  {
   "cell_type": "code",
   "execution_count": 34,
   "id": "892c30af-5ef5-48fd-8f7e-9897843af299",
   "metadata": {
    "colab": {
     "base_uri": "https://localhost:8080/",
     "height": 1000
    },
    "id": "b08af891-f622-4719-a099-7a8702acdeb8",
    "outputId": "efd4e414-eb40-40b6-86b0-462992d375b0"
   },
   "outputs": [
    {
     "name": "stdout",
     "output_type": "stream",
     "text": [
      "Vlo-O: 16\n",
      "Vlo-I: 5\n"
     ]
    }
   ],
   "source": [
    "print(\"Vlo-O:\",data[\"Vlo-O\"].str.contains(\"[A-Za-z]\").sum())\n",
    "print(\"Vlo-I:\",data[\"Vlo-I\"].str.contains(\"[A-Za-z]\").sum())"
   ]
  },
  {
   "cell_type": "code",
   "execution_count": 35,
   "id": "81cce2e1-8dba-48ed-8d5d-4c9b43ded0d2",
   "metadata": {
    "id": "e3e13e59-16c6-4b56-8a40-6e0b73e4b08a",
    "tags": []
   },
   "outputs": [],
   "source": [
    "# Replacing string with empty string\n",
    "data[\"Vlo-I\"] = data[\"Vlo-I\"].str.replace(r\"[A-Za-z]\",\"\", regex=True)\n",
    "data[\"Vlo-O\"] = data[\"Vlo-O\"].str.replace(r\"[A-Za-z]\",\"\", regex=True)"
   ]
  },
  {
   "cell_type": "code",
   "execution_count": 36,
   "id": "ae01e421-febc-4db9-8766-674213228111",
   "metadata": {
    "colab": {
     "base_uri": "https://localhost:8080/",
     "height": 131
    },
    "id": "2a83dd41-f44f-43b7-80a5-7b7c8145901a",
    "outputId": "adafd478-3483-41cb-c77b-b62b367c2172"
   },
   "outputs": [
    {
     "name": "stdout",
     "output_type": "stream",
     "text": [
      "After Vlo-O: 0\n",
      "After Vlo-I: 0\n"
     ]
    }
   ],
   "source": [
    "# Checking that Vlo-I, Vlo-O value does not contain any alphabet now.\n",
    "print(\"After Vlo-O:\",data[\"Vlo-O\"].str.contains(\"[A-Za-z]\").sum())\n",
    "print(\"After Vlo-I:\",data[\"Vlo-I\"].str.contains(\"[A-Za-z]\").sum())"
   ]
  },
  {
   "cell_type": "markdown",
   "id": "47959e76-8441-48fd-993b-473fd873aacc",
   "metadata": {
    "id": "f9473212-ae18-4147-b8cb-c3b253ad4836"
   },
   "source": [
    "### Dealing with missing data\n"
   ]
  },
  {
   "cell_type": "code",
   "execution_count": 37,
   "id": "87e02095-6686-432f-b5f5-a115abbf6d01",
   "metadata": {
    "colab": {
     "base_uri": "https://localhost:8080/"
    },
    "id": "34d59059-5837-4b57-9aa7-2f92c993275b",
    "outputId": "bcca67b7-0332-4940-b8a7-0b93ad899ec4",
    "tags": []
   },
   "outputs": [
    {
     "name": "stdout",
     "output_type": "stream",
     "text": [
      "Fecha-I      0\n",
      "Vlo-I        0\n",
      "Ori-I        0\n",
      "Des-I        0\n",
      "Emp-I        0\n",
      "Fecha-O      0\n",
      "Vlo-O        1\n",
      "Ori-O        0\n",
      "Des-O        0\n",
      "Emp-O        0\n",
      "DIA          0\n",
      "MES          0\n",
      "AÑO          0\n",
      "DIANOM       0\n",
      "TIPOVUELO    0\n",
      "OPERA        0\n",
      "SIGLAORI     0\n",
      "SIGLADES     0\n",
      "dtype: int64\n"
     ]
    }
   ],
   "source": [
    "print(data.isna().sum())"
   ]
  },
  {
   "cell_type": "code",
   "execution_count": 38,
   "id": "d3d4183b-f7a2-49c7-aa3c-0a11dacc7e9e",
   "metadata": {
    "colab": {
     "base_uri": "https://localhost:8080/",
     "height": 197
    },
    "id": "e12b228f-955a-4707-ae28-1cfd45312f73",
    "outputId": "2c07d568-75c6-4e7e-a85a-89d1f64acf05",
    "tags": []
   },
   "outputs": [
    {
     "name": "stdout",
     "output_type": "stream",
     "text": [
      "                 Fecha-I Vlo-I Ori-I Des-I Emp-I             Fecha-O Vlo-O  \\\n",
      "6068 2017-01-19 11:00:00   200  SCEL  SPJC   LAW 2017-01-19 11:03:00  <NA>   \n",
      "\n",
      "     Ori-O Des-O Emp-O  DIA  MES   AÑO  DIANOM TIPOVUELO  \\\n",
      "6068  SCEL  SPJC   56R   19    1  2017  Jueves         I   \n",
      "\n",
      "                     OPERA  SIGLAORI SIGLADES  \n",
      "6068  Latin American Wings  Santiago     Lima  \n"
     ]
    }
   ],
   "source": [
    "# Vlo-O contains one row containing null value\n",
    "print(data.loc[data['Vlo-O'].isna()])"
   ]
  },
  {
   "cell_type": "markdown",
   "id": "27ea1c7f-5ef9-480f-8ab9-dea3026e72e8",
   "metadata": {},
   "source": [
    "##### Assigning Vlo-I to Vlo-O because Ori-I is same as Ori-O, Des-I is same as Des-O, and if DIANOM is Jueves, there is very high chances that Vlo-I is same as Vlo-O, and there is no delay also."
   ]
  },
  {
   "cell_type": "code",
   "execution_count": 39,
   "id": "c5fa962d-c8b0-4bf6-806d-5ccaf5bc6152",
   "metadata": {
    "id": "e442226d-4fda-46e2-a7c8-faf5e87db4b8"
   },
   "outputs": [],
   "source": [
    "data[\"Vlo-O\"] = data[\"Vlo-O\"].fillna(data[\"Vlo-I\"])\n",
    "data[\"Vlo-I\"] = data[\"Vlo-I\"].astype(\"int\")\n",
    "data[\"Vlo-O\"] = data[\"Vlo-O\"].astype(\"float\")\n",
    "data[\"Vlo-O\"] = data[\"Vlo-O\"].astype(\"int\")"
   ]
  },
  {
   "cell_type": "markdown",
   "id": "65be214b-3ccf-41c2-8915-7857ee15e66e",
   "metadata": {
    "id": "de12aed8-f47e-422a-baae-8dba7515dccd"
   },
   "source": [
    "Some Vlo-O values are specified in **decimal** form but is integer. So, first converting into float and then int.\n",
    "\n",
    "### Converting TIPOVUELO feature into integer\n",
    "International flights are assigned with 1 and national flights are assigned with 0 values. "
   ]
  },
  {
   "cell_type": "code",
   "execution_count": 40,
   "id": "ce78455b-910d-475d-a6ec-7c017f47894f",
   "metadata": {},
   "outputs": [],
   "source": [
    "data['TIPOVUELO'] = data['TIPOVUELO'].replace(['I', 'N'],[1,0]).astype(\"int\")"
   ]
  },
  {
   "cell_type": "markdown",
   "id": "e5f9f585-97dc-427e-bd4d-0794179aba3b",
   "metadata": {},
   "source": [
    "### Data Analysis"
   ]
  },
  {
   "cell_type": "code",
   "execution_count": 41,
   "id": "3fe89052-a5f6-4e30-a698-ad2abf665a3a",
   "metadata": {
    "colab": {
     "base_uri": "https://localhost:8080/",
     "height": 206
    },
    "id": "03cf5552-362d-4614-9e11-8048f1dee08c",
    "outputId": "b133bd9e-b6f6-43fc-a521-fb42f5709ab0"
   },
   "outputs": [
    {
     "data": {
      "text/html": [
       "<div>\n",
       "<style scoped>\n",
       "    .dataframe tbody tr th:only-of-type {\n",
       "        vertical-align: middle;\n",
       "    }\n",
       "\n",
       "    .dataframe tbody tr th {\n",
       "        vertical-align: top;\n",
       "    }\n",
       "\n",
       "    .dataframe thead th {\n",
       "        text-align: right;\n",
       "    }\n",
       "</style>\n",
       "<table border=\"1\" class=\"dataframe\">\n",
       "  <thead>\n",
       "    <tr style=\"text-align: right;\">\n",
       "      <th></th>\n",
       "      <th>count</th>\n",
       "      <th>mean</th>\n",
       "      <th>std</th>\n",
       "      <th>min</th>\n",
       "      <th>25%</th>\n",
       "      <th>50%</th>\n",
       "      <th>75%</th>\n",
       "      <th>max</th>\n",
       "    </tr>\n",
       "  </thead>\n",
       "  <tbody>\n",
       "    <tr>\n",
       "      <th>Vlo-I</th>\n",
       "      <td>68206.0</td>\n",
       "      <td>969.827288</td>\n",
       "      <td>2029.024762</td>\n",
       "      <td>1.0</td>\n",
       "      <td>150.0</td>\n",
       "      <td>300.0</td>\n",
       "      <td>632.0</td>\n",
       "      <td>9956.0</td>\n",
       "    </tr>\n",
       "    <tr>\n",
       "      <th>Vlo-O</th>\n",
       "      <td>68206.0</td>\n",
       "      <td>967.421092</td>\n",
       "      <td>2026.193621</td>\n",
       "      <td>1.0</td>\n",
       "      <td>150.0</td>\n",
       "      <td>300.0</td>\n",
       "      <td>637.5</td>\n",
       "      <td>9956.0</td>\n",
       "    </tr>\n",
       "    <tr>\n",
       "      <th>DIA</th>\n",
       "      <td>68206.0</td>\n",
       "      <td>15.714790</td>\n",
       "      <td>8.782886</td>\n",
       "      <td>1.0</td>\n",
       "      <td>8.0</td>\n",
       "      <td>16.0</td>\n",
       "      <td>23.0</td>\n",
       "      <td>31.0</td>\n",
       "    </tr>\n",
       "    <tr>\n",
       "      <th>MES</th>\n",
       "      <td>68206.0</td>\n",
       "      <td>6.622585</td>\n",
       "      <td>3.523321</td>\n",
       "      <td>1.0</td>\n",
       "      <td>3.0</td>\n",
       "      <td>7.0</td>\n",
       "      <td>10.0</td>\n",
       "      <td>12.0</td>\n",
       "    </tr>\n",
       "    <tr>\n",
       "      <th>AÑO</th>\n",
       "      <td>68206.0</td>\n",
       "      <td>2017.000029</td>\n",
       "      <td>0.005415</td>\n",
       "      <td>2017.0</td>\n",
       "      <td>2017.0</td>\n",
       "      <td>2017.0</td>\n",
       "      <td>2017.0</td>\n",
       "      <td>2018.0</td>\n",
       "    </tr>\n",
       "    <tr>\n",
       "      <th>TIPOVUELO</th>\n",
       "      <td>68206.0</td>\n",
       "      <td>0.458024</td>\n",
       "      <td>0.498239</td>\n",
       "      <td>0.0</td>\n",
       "      <td>0.0</td>\n",
       "      <td>0.0</td>\n",
       "      <td>1.0</td>\n",
       "      <td>1.0</td>\n",
       "    </tr>\n",
       "  </tbody>\n",
       "</table>\n",
       "</div>"
      ],
      "text/plain": [
       "             count         mean          std     min     25%     50%     75%  \\\n",
       "Vlo-I      68206.0   969.827288  2029.024762     1.0   150.0   300.0   632.0   \n",
       "Vlo-O      68206.0   967.421092  2026.193621     1.0   150.0   300.0   637.5   \n",
       "DIA        68206.0    15.714790     8.782886     1.0     8.0    16.0    23.0   \n",
       "MES        68206.0     6.622585     3.523321     1.0     3.0     7.0    10.0   \n",
       "AÑO        68206.0  2017.000029     0.005415  2017.0  2017.0  2017.0  2017.0   \n",
       "TIPOVUELO  68206.0     0.458024     0.498239     0.0     0.0     0.0     1.0   \n",
       "\n",
       "              max  \n",
       "Vlo-I      9956.0  \n",
       "Vlo-O      9956.0  \n",
       "DIA          31.0  \n",
       "MES          12.0  \n",
       "AÑO        2018.0  \n",
       "TIPOVUELO     1.0  "
      ]
     },
     "execution_count": 41,
     "metadata": {},
     "output_type": "execute_result"
    }
   ],
   "source": [
    "data.describe().T"
   ]
  },
  {
   "cell_type": "markdown",
   "id": "2c2b9ccd-fe09-4a2b-b7b9-9084dd25b065",
   "metadata": {},
   "source": [
    "Here, Vlo-I and Vlo-O values are skewed, because mean value is greater than 50%. There is big gap between 75% and max values of Vlo-I and Vlo-O features."
   ]
  },
  {
   "cell_type": "code",
   "execution_count": 42,
   "id": "3079ffb6-ead9-4218-afe8-ff4bca7264e3",
   "metadata": {
    "colab": {
     "base_uri": "https://localhost:8080/",
     "height": 81
    },
    "id": "4d5371d4-40d7-4a02-a301-1be3465c58a8",
    "outputId": "974d9794-a12c-4dd3-f101-c7e098ba7418"
   },
   "outputs": [
    {
     "name": "stdout",
     "output_type": "stream",
     "text": [
      "          count unique           top   freq\n",
      "Ori-I     68206      1          SCEL  68206\n",
      "Des-I     68206     64          SCFA   5787\n",
      "Emp-I     68206     30           LAN  37611\n",
      "Ori-O     68206      1          SCEL  68206\n",
      "Des-O     68206     63          SCFA   5786\n",
      "Emp-O     68206     32           LAN  20988\n",
      "DIANOM    68206      7       Viernes  10292\n",
      "OPERA     68206     23   Grupo LATAM  40892\n",
      "SIGLAORI  68206      1      Santiago  68206\n",
      "SIGLADES  68206     62  Buenos Aires   6335\n"
     ]
    }
   ],
   "source": [
    "print(data.describe(include=\"category\").T)"
   ]
  },
  {
   "cell_type": "markdown",
   "id": "e312c2cd-66f7-4052-af28-ffe599a3ef87",
   "metadata": {},
   "source": [
    "- Ori-I, Ori-O, and SIGLAORI features contains only one value. So we will not include this features into input while training the model.\n",
    "- Analyze Des-I, Desi-I, and SIGLADES which contains almost same number of categories. So some features can be duplicating. \n",
    "- Compare Emp-I, Emp-O and OPERA features. Keep the features which are useful, and remove the duplicate columns."
   ]
  },
  {
   "cell_type": "code",
   "execution_count": 43,
   "id": "d644501b-be9c-4eab-830f-7092087d6dcd",
   "metadata": {
    "colab": {
     "base_uri": "https://localhost:8080/",
     "height": 802
    },
    "id": "1094a8a5-f383-4935-9437-d1033e4594f4",
    "outputId": "64b1a2eb-5c47-48ca-8e41-56d058b17836"
   },
   "outputs": [
    {
     "data": {
      "text/html": [
       "<div>\n",
       "<style scoped>\n",
       "    .dataframe tbody tr th:only-of-type {\n",
       "        vertical-align: middle;\n",
       "    }\n",
       "\n",
       "    .dataframe tbody tr th {\n",
       "        vertical-align: top;\n",
       "    }\n",
       "\n",
       "    .dataframe thead th {\n",
       "        text-align: right;\n",
       "    }\n",
       "</style>\n",
       "<table border=\"1\" class=\"dataframe\">\n",
       "  <thead>\n",
       "    <tr style=\"text-align: right;\">\n",
       "      <th>DIANOM</th>\n",
       "      <th>Domingo</th>\n",
       "      <th>Jueves</th>\n",
       "      <th>Lunes</th>\n",
       "      <th>Martes</th>\n",
       "      <th>Miercoles</th>\n",
       "      <th>Sabado</th>\n",
       "      <th>Viernes</th>\n",
       "    </tr>\n",
       "    <tr>\n",
       "      <th>OPERA</th>\n",
       "      <th></th>\n",
       "      <th></th>\n",
       "      <th></th>\n",
       "      <th></th>\n",
       "      <th></th>\n",
       "      <th></th>\n",
       "      <th></th>\n",
       "    </tr>\n",
       "  </thead>\n",
       "  <tbody>\n",
       "    <tr>\n",
       "      <th>Aerolineas Argentinas</th>\n",
       "      <td>288</td>\n",
       "      <td>282</td>\n",
       "      <td>285</td>\n",
       "      <td>275</td>\n",
       "      <td>279</td>\n",
       "      <td>253</td>\n",
       "      <td>287</td>\n",
       "    </tr>\n",
       "    <tr>\n",
       "      <th>Aeromexico</th>\n",
       "      <td>52</td>\n",
       "      <td>52</td>\n",
       "      <td>51</td>\n",
       "      <td>48</td>\n",
       "      <td>50</td>\n",
       "      <td>50</td>\n",
       "      <td>48</td>\n",
       "    </tr>\n",
       "    <tr>\n",
       "      <th>Air Canada</th>\n",
       "      <td>108</td>\n",
       "      <td>82</td>\n",
       "      <td>101</td>\n",
       "      <td>66</td>\n",
       "      <td>47</td>\n",
       "      <td>94</td>\n",
       "      <td>67</td>\n",
       "    </tr>\n",
       "    <tr>\n",
       "      <th>Air France</th>\n",
       "      <td>54</td>\n",
       "      <td>50</td>\n",
       "      <td>52</td>\n",
       "      <td>51</td>\n",
       "      <td>49</td>\n",
       "      <td>51</td>\n",
       "      <td>51</td>\n",
       "    </tr>\n",
       "    <tr>\n",
       "      <th>Alitalia</th>\n",
       "      <td>22</td>\n",
       "      <td>52</td>\n",
       "      <td>52</td>\n",
       "      <td>50</td>\n",
       "      <td>1</td>\n",
       "      <td>51</td>\n",
       "      <td>31</td>\n",
       "    </tr>\n",
       "    <tr>\n",
       "      <th>American Airlines</th>\n",
       "      <td>104</td>\n",
       "      <td>104</td>\n",
       "      <td>117</td>\n",
       "      <td>104</td>\n",
       "      <td>112</td>\n",
       "      <td>115</td>\n",
       "      <td>101</td>\n",
       "    </tr>\n",
       "    <tr>\n",
       "      <th>Austral</th>\n",
       "      <td>15</td>\n",
       "      <td>16</td>\n",
       "      <td>0</td>\n",
       "      <td>13</td>\n",
       "      <td>0</td>\n",
       "      <td>30</td>\n",
       "      <td>0</td>\n",
       "    </tr>\n",
       "    <tr>\n",
       "      <th>Avianca</th>\n",
       "      <td>168</td>\n",
       "      <td>169</td>\n",
       "      <td>165</td>\n",
       "      <td>167</td>\n",
       "      <td>174</td>\n",
       "      <td>152</td>\n",
       "      <td>157</td>\n",
       "    </tr>\n",
       "    <tr>\n",
       "      <th>British Airways</th>\n",
       "      <td>40</td>\n",
       "      <td>12</td>\n",
       "      <td>11</td>\n",
       "      <td>39</td>\n",
       "      <td>51</td>\n",
       "      <td>12</td>\n",
       "      <td>40</td>\n",
       "    </tr>\n",
       "    <tr>\n",
       "      <th>Copa Air</th>\n",
       "      <td>266</td>\n",
       "      <td>261</td>\n",
       "      <td>267</td>\n",
       "      <td>268</td>\n",
       "      <td>263</td>\n",
       "      <td>261</td>\n",
       "      <td>264</td>\n",
       "    </tr>\n",
       "    <tr>\n",
       "      <th>Delta Air</th>\n",
       "      <td>55</td>\n",
       "      <td>50</td>\n",
       "      <td>51</td>\n",
       "      <td>51</td>\n",
       "      <td>51</td>\n",
       "      <td>50</td>\n",
       "      <td>50</td>\n",
       "    </tr>\n",
       "    <tr>\n",
       "      <th>Gol Trans</th>\n",
       "      <td>135</td>\n",
       "      <td>94</td>\n",
       "      <td>133</td>\n",
       "      <td>86</td>\n",
       "      <td>114</td>\n",
       "      <td>104</td>\n",
       "      <td>140</td>\n",
       "    </tr>\n",
       "    <tr>\n",
       "      <th>Grupo LATAM</th>\n",
       "      <td>5773</td>\n",
       "      <td>6274</td>\n",
       "      <td>6075</td>\n",
       "      <td>5796</td>\n",
       "      <td>5867</td>\n",
       "      <td>4923</td>\n",
       "      <td>6184</td>\n",
       "    </tr>\n",
       "    <tr>\n",
       "      <th>Iberia</th>\n",
       "      <td>53</td>\n",
       "      <td>50</td>\n",
       "      <td>52</td>\n",
       "      <td>51</td>\n",
       "      <td>52</td>\n",
       "      <td>52</td>\n",
       "      <td>52</td>\n",
       "    </tr>\n",
       "    <tr>\n",
       "      <th>K.L.M.</th>\n",
       "      <td>9</td>\n",
       "      <td>45</td>\n",
       "      <td>50</td>\n",
       "      <td>49</td>\n",
       "      <td>46</td>\n",
       "      <td>51</td>\n",
       "      <td>1</td>\n",
       "    </tr>\n",
       "    <tr>\n",
       "      <th>Latin American Wings</th>\n",
       "      <td>178</td>\n",
       "      <td>258</td>\n",
       "      <td>289</td>\n",
       "      <td>256</td>\n",
       "      <td>263</td>\n",
       "      <td>146</td>\n",
       "      <td>284</td>\n",
       "    </tr>\n",
       "    <tr>\n",
       "      <th>Qantas Airways</th>\n",
       "      <td>49</td>\n",
       "      <td>0</td>\n",
       "      <td>1</td>\n",
       "      <td>45</td>\n",
       "      <td>45</td>\n",
       "      <td>6</td>\n",
       "      <td>49</td>\n",
       "    </tr>\n",
       "    <tr>\n",
       "      <th>Sky Airline</th>\n",
       "      <td>2170</td>\n",
       "      <td>2141</td>\n",
       "      <td>2094</td>\n",
       "      <td>1970</td>\n",
       "      <td>1994</td>\n",
       "      <td>1721</td>\n",
       "      <td>2208</td>\n",
       "    </tr>\n",
       "    <tr>\n",
       "      <th>United Airlines</th>\n",
       "      <td>49</td>\n",
       "      <td>47</td>\n",
       "      <td>47</td>\n",
       "      <td>43</td>\n",
       "      <td>48</td>\n",
       "      <td>49</td>\n",
       "      <td>52</td>\n",
       "    </tr>\n",
       "    <tr>\n",
       "      <th>JetSmart SPA</th>\n",
       "      <td>155</td>\n",
       "      <td>158</td>\n",
       "      <td>171</td>\n",
       "      <td>184</td>\n",
       "      <td>149</td>\n",
       "      <td>125</td>\n",
       "      <td>153</td>\n",
       "    </tr>\n",
       "    <tr>\n",
       "      <th>Lacsa</th>\n",
       "      <td>14</td>\n",
       "      <td>12</td>\n",
       "      <td>13</td>\n",
       "      <td>12</td>\n",
       "      <td>12</td>\n",
       "      <td>14</td>\n",
       "      <td>15</td>\n",
       "    </tr>\n",
       "    <tr>\n",
       "      <th>Oceanair Linhas Aereas</th>\n",
       "      <td>39</td>\n",
       "      <td>42</td>\n",
       "      <td>39</td>\n",
       "      <td>37</td>\n",
       "      <td>40</td>\n",
       "      <td>41</td>\n",
       "      <td>41</td>\n",
       "    </tr>\n",
       "    <tr>\n",
       "      <th>Plus Ultra Lineas Aereas</th>\n",
       "      <td>0</td>\n",
       "      <td>0</td>\n",
       "      <td>15</td>\n",
       "      <td>1</td>\n",
       "      <td>15</td>\n",
       "      <td>1</td>\n",
       "      <td>17</td>\n",
       "    </tr>\n",
       "  </tbody>\n",
       "</table>\n",
       "</div>"
      ],
      "text/plain": [
       "DIANOM                    Domingo  Jueves  Lunes  Martes  Miercoles  Sabado  \\\n",
       "OPERA                                                                         \n",
       "Aerolineas Argentinas         288     282    285     275        279     253   \n",
       "Aeromexico                     52      52     51      48         50      50   \n",
       "Air Canada                    108      82    101      66         47      94   \n",
       "Air France                     54      50     52      51         49      51   \n",
       "Alitalia                       22      52     52      50          1      51   \n",
       "American Airlines             104     104    117     104        112     115   \n",
       "Austral                        15      16      0      13          0      30   \n",
       "Avianca                       168     169    165     167        174     152   \n",
       "British Airways                40      12     11      39         51      12   \n",
       "Copa Air                      266     261    267     268        263     261   \n",
       "Delta Air                      55      50     51      51         51      50   \n",
       "Gol Trans                     135      94    133      86        114     104   \n",
       "Grupo LATAM                  5773    6274   6075    5796       5867    4923   \n",
       "Iberia                         53      50     52      51         52      52   \n",
       "K.L.M.                          9      45     50      49         46      51   \n",
       "Latin American Wings          178     258    289     256        263     146   \n",
       "Qantas Airways                 49       0      1      45         45       6   \n",
       "Sky Airline                  2170    2141   2094    1970       1994    1721   \n",
       "United Airlines                49      47     47      43         48      49   \n",
       "JetSmart SPA                  155     158    171     184        149     125   \n",
       "Lacsa                          14      12     13      12         12      14   \n",
       "Oceanair Linhas Aereas         39      42     39      37         40      41   \n",
       "Plus Ultra Lineas Aereas        0       0     15       1         15       1   \n",
       "\n",
       "DIANOM                    Viernes  \n",
       "OPERA                              \n",
       "Aerolineas Argentinas         287  \n",
       "Aeromexico                     48  \n",
       "Air Canada                     67  \n",
       "Air France                     51  \n",
       "Alitalia                       31  \n",
       "American Airlines             101  \n",
       "Austral                         0  \n",
       "Avianca                       157  \n",
       "British Airways                40  \n",
       "Copa Air                      264  \n",
       "Delta Air                      50  \n",
       "Gol Trans                     140  \n",
       "Grupo LATAM                  6184  \n",
       "Iberia                         52  \n",
       "K.L.M.                          1  \n",
       "Latin American Wings          284  \n",
       "Qantas Airways                 49  \n",
       "Sky Airline                  2208  \n",
       "United Airlines                52  \n",
       "JetSmart SPA                  153  \n",
       "Lacsa                          15  \n",
       "Oceanair Linhas Aereas         41  \n",
       "Plus Ultra Lineas Aereas       17  "
      ]
     },
     "execution_count": 43,
     "metadata": {},
     "output_type": "execute_result"
    }
   ],
   "source": [
    "pd.crosstab(data[\"OPERA\"],data[\"DIANOM\"])"
   ]
  },
  {
   "cell_type": "markdown",
   "id": "5151e5f4-139c-4009-a60b-86d47eba4b97",
   "metadata": {
    "id": "274f9910-6bcc-4647-a045-0d78d22fb2f3"
   },
   "source": [
    "**Maximum data contains of flights operated by LATAM Airlines.**\n",
    "\n",
    "Some Airlines only fly on somes days of the week.\n",
    "- Alitalia has only one flight on Miercoles but on other days of week approx. 50 flights are operated.\n",
    "- Austral has no flights on Lunes, Miercoles, and Viernes.\n",
    "- K.L.M. has less than 10 flights on Domingo and Viernes, while on other days of week it has approx 50 flights.\n",
    "- Plus Ultra Lineas Aereas has flights on Lunes, Miercoles, and Viernes, while on other days of week it only have couple of flights.\n",
    "- Quantas Airways has combined less than 10 flights on Jueves, Lunes, and Sabado, while on other days of week approx. 47 flights are operated."
   ]
  },
  {
   "cell_type": "code",
   "execution_count": 44,
   "id": "483b95a2-6f16-4772-89c2-071ef45c3c2d",
   "metadata": {
    "colab": {
     "base_uri": "https://localhost:8080/",
     "height": 797
    },
    "id": "30f5d8f1-523d-479d-a6cc-fb7803f5e35d",
    "outputId": "92721561-3cd1-4201-ec39-c5b92e38c0d4"
   },
   "outputs": [
    {
     "data": {
      "text/plain": [
       "array([[<AxesSubplot:title={'center':'Fecha-I'}>,\n",
       "        <AxesSubplot:title={'center':'Vlo-I'}>,\n",
       "        <AxesSubplot:title={'center':'Fecha-O'}>],\n",
       "       [<AxesSubplot:title={'center':'Vlo-O'}>,\n",
       "        <AxesSubplot:title={'center':'DIA'}>,\n",
       "        <AxesSubplot:title={'center':'MES'}>],\n",
       "       [<AxesSubplot:title={'center':'AÑO'}>,\n",
       "        <AxesSubplot:title={'center':'TIPOVUELO'}>, <AxesSubplot:>]],\n",
       "      dtype=object)"
      ]
     },
     "execution_count": 44,
     "metadata": {},
     "output_type": "execute_result"
    },
    {
     "data": {
      "image/png": "[encoded data removed]",
      "text/plain": [
       "<Figure size 720x720 with 9 Axes>"
      ]
     },
     "metadata": {
      "needs_background": "light"
     },
     "output_type": "display_data"
    }
   ],
   "source": [
    "data.hist(figsize=(10,10))"
   ]
  },
  {
   "cell_type": "code",
   "execution_count": 45,
   "id": "1d75aad7-b63c-47e1-a92e-e7024a2461df",
   "metadata": {},
   "outputs": [
    {
     "name": "stdout",
     "output_type": "stream",
     "text": [
      "AÑO   TIPOVUELO\n",
      "2017  0            36966\n",
      "      1            31238\n",
      "2018  1                2\n",
      "dtype: int64\n"
     ]
    }
   ],
   "source": [
    "print(data[['AÑO','TIPOVUELO']].value_counts())"
   ]
  },
  {
   "cell_type": "markdown",
   "id": "a2eb5e85-66bc-40ec-a0e7-d5f3a0f20991",
   "metadata": {},
   "source": [
    "**Insights from histogram**\n",
    "\n",
    "- In MES, January and December month contains the highest number of flights operated. It is vacation time, so people travel a lot at that time.\n",
    "- 54% flights are national, and 45% flights are international.\n",
    "- AÑO is highly skewed and data is distributed more vertically. Because whole data is about 2017, only two data records are of 2018. "
   ]
  },
  {
   "cell_type": "markdown",
   "id": "17c06c30-2007-42ac-820e-1876d95cad6e",
   "metadata": {},
   "source": [
    "## Q 1: Data Distribution\n",
    "\n",
    "### Calculating Skew\n",
    "- Skewness means data distibution is not uniform means it has less symmetry. The shape of curve represents the data distibution. \n",
    "- If curve is positively skewed then most of the values are less than median value. If curve is negatively skewed then most of the data is greater than median value. \n",
    "- The value zero mean data distribution is symmetric."
   ]
  },
  {
   "cell_type": "code",
   "execution_count": 46,
   "id": "03738763-1b5a-4d8c-9c4c-1c85b3be8e0e",
   "metadata": {
    "colab": {
     "base_uri": "https://localhost:8080/"
    },
    "id": "1ce509e3-115d-45a3-85d9-d5862816fb20",
    "outputId": "fc15886f-23b6-42a0-9c56-91f8c1d7d119"
   },
   "outputs": [
    {
     "name": "stdout",
     "output_type": "stream",
     "text": [
      "Vlo-I          3.093216\n",
      "Vlo-O          3.103720\n",
      "DIA            0.008439\n",
      "MES           -0.063128\n",
      "AÑO          184.665914\n",
      "TIPOVUELO      0.168502\n",
      "dtype: float64\n"
     ]
    }
   ],
   "source": [
    "print(data.skew())"
   ]
  },
  {
   "cell_type": "markdown",
   "id": "3e468b07-3284-4ed2-ae34-9b74c15d0c46",
   "metadata": {
    "id": "2bf987bb-1ef6-47e7-b649-77bfbce7d491"
   },
   "source": [
    "**Observations**\n",
    "- Vlo-I and Vlo-O are positively skewed. \n",
    "- AÑO is highly positivily skewed, because all data is from 2017 but only 2 data records from 2018. \n",
    "- Apparently, MES is slightly negatively skewed. DIA is closest to symmetric distribution.\n",
    "\n",
    "### Calculating Kurtosis\n",
    "Kurtosis measures peak point of curve of data. There are 3 types of curve: \n",
    "1. **Leptokurtic Curve:** This curve is **taller** than normal distribution curve. It value is greater than 0.\n",
    "2. **Mesokurtic Curve:** This curve is closest to normal distribution curve. Its value is 0.\n",
    "3. **Platykurtic Curve:** The peak of this curve is **flat**. It is flatter than other 2 curves. The value is less than 0.\n"
   ]
  },
  {
   "cell_type": "code",
   "execution_count": 47,
   "id": "c2977d22-aece-48d8-85e4-e6fd81b1d36d",
   "metadata": {
    "colab": {
     "base_uri": "https://localhost:8080/"
    },
    "id": "3c492546-69f5-401b-a710-9822b8c223e8",
    "outputId": "899f04f9-7085-4b3d-ae9d-ccca7720bc20"
   },
   "outputs": [
    {
     "name": "stdout",
     "output_type": "stream",
     "text": [
      "Vlo-I            8.099201\n",
      "Vlo-O            8.162987\n",
      "DIA             -1.192468\n",
      "MES             -1.249906\n",
      "AÑO          34100.499883\n",
      "TIPOVUELO       -1.971665\n",
      "dtype: float64\n"
     ]
    }
   ],
   "source": [
    "print(data.kurtosis())"
   ]
  },
  {
   "cell_type": "markdown",
   "id": "1b3ff48a-dc95-4be1-8e2e-a64ee9437b59",
   "metadata": {
    "id": "4cb8452d-c3fa-4248-ae41-ab1fc6fd0332",
    "tags": []
   },
   "source": [
    "**Observations**\n",
    "- Vlo-I and Vlo-O will be represented by leptokurtic curve means data distribution is more vertical.\n",
    "- DIA and MES represents platykurtic curve means data is distributed more horizontally but it is closest to normal data distribution. \n",
    "- **Data distribution of AÑO is highly vertical represented by leptokurtic curve.**"
   ]
  },
  {
   "cell_type": "markdown",
   "id": "7882afa5-6f82-4334-87b7-792fbee07442",
   "metadata": {
    "id": "58e50300-3425-43bd-bccd-229bec11a255"
   },
   "source": [
    "### Data distribution for categorical features\n",
    "To view data distribution of categorical features we need to plot the features."
   ]
  },
  {
   "cell_type": "code",
   "execution_count": 48,
   "id": "8e85ebf6-cc10-43e4-b59e-fe48e3ce79b9",
   "metadata": {
    "colab": {
     "base_uri": "https://localhost:8080/",
     "height": 856
    },
    "id": "62a465e7-4c92-4de4-ae56-6e454d9ad87f",
    "outputId": "4ed72063-320c-460b-828b-584cbcb43b69"
   },
   "outputs": [
    {
     "data": {
      "image/png": "[encoded data removed]",
      "text/plain": [
       "<Figure size 1440x1800 with 8 Axes>"
      ]
     },
     "metadata": {
      "needs_background": "light"
     },
     "output_type": "display_data"
    }
   ],
   "source": [
    "\n",
    "fig, axes = plt.subplots(4,2,figsize=(20,25))\n",
    "data[\"Des-I\"].value_counts().plot(kind=\"bar\", xlabel=\"Des-I\", ax=axes[0][0])\n",
    "data[\"Emp-I\"].value_counts().plot(kind=\"bar\", xlabel=\"Emp-I\", ax=axes[0][1])\n",
    "data[\"Des-O\"].value_counts().plot(kind=\"bar\", xlabel=\"Des-O\", ax=axes[1][0])\n",
    "data[\"Emp-O\"].value_counts().plot(kind=\"bar\", xlabel=\"Emp-O\", ax=axes[1][1])\n",
    "data[\"DIANOM\"].value_counts().plot(kind=\"bar\", xlabel=\"DIANOM\", ax=axes[2][0])\n",
    "data[\"OPERA\"].value_counts().plot(kind=\"bar\", xlabel=\"OPERA\", ax=axes[2][1])\n",
    "data[\"SIGLADES\"].value_counts().plot(kind=\"bar\", xlabel=\"SIGLADES\", ax=axes[3][0])\n",
    "plt.tight_layout()\n",
    "plt.show()\n"
   ]
  },
  {
   "cell_type": "markdown",
   "id": "3d2bb481-0309-4155-97f7-3a3f9fc432fc",
   "metadata": {
    "id": "5f0a4b16-be7f-47dd-9698-4f65a30faa79"
   },
   "source": [
    "**Observations**\n",
    "\n",
    "- Emp-I, Emp-O, and OPERA contains similar pattern in data. These features are highly skewed. \n",
    "- 60% of flights operated are of LATAM Airlines, 20% of flights are of Sky Airlines and rest 20% of flights are from 21 different airlines.\n",
    "- DIANOM is very close to uniform distribution. It means there is approximately equal traffic on all days of week. \n",
    "- Des-I, Des-O, and SIGLADES contains similar data distribution."
   ]
  },
  {
   "cell_type": "markdown",
   "id": "2227fdf3-a03c-4132-8bad-d9230d052319",
   "metadata": {
    "id": "3674b01c-0090-40ce-9223-b14970becebb"
   },
   "source": [
    "## Q 2 Generating Synthetic features\n",
    "\n",
    "- high_season : 1 if Date-I is between Dec-15 and Mar-3, or Jul-15 and Jul-31, or Sep-11 and Sep-30, 0 otherwise.\n",
    "- min_diff : difference in minutes between Date-O and Date-I .\n",
    "- delay_15 : 1 if min_diff > 15, 0 if not.\n",
    "- period_day : morning (between 5:00 and 11:59), afternoon (between 12:00 and 18:59) and night (between 19:00 and 4:59), based on Date-I \n",
    "\n",
    "#### Assumptions: \n",
    "* Considering scheduled date and time of the flight specified in Fecha-I as Date-I.\n",
    "* Considering date and time of flight operated specified in Fecha-O as Date-O."
   ]
  },
  {
   "cell_type": "code",
   "execution_count": 49,
   "id": "5642af25-6235-4f13-a7e6-3ddb084006c7",
   "metadata": {
    "colab": {
     "base_uri": "https://localhost:8080/"
    },
    "id": "ed179c28-8ef6-4197-8268-06033c833869",
    "outputId": "5439c2e5-a5e6-49bf-8d96-2ec008bdd59c"
   },
   "outputs": [
    {
     "name": "stdout",
     "output_type": "stream",
     "text": [
      "Fecha-I minimum date: 2017-01-01 00:15:00\n",
      "Fecha-I maximum date: 2017-12-31 23:55:00\n"
     ]
    }
   ],
   "source": [
    "min_ts = data[\"Fecha-I\"].min()\n",
    "max_ts = data[\"Fecha-I\"].max()\n",
    "print(\"Fecha-I minimum date:\",min_ts)\n",
    "print(\"Fecha-I maximum date:\",max_ts)"
   ]
  },
  {
   "cell_type": "markdown",
   "id": "4c153d6a-b2cc-4818-9f35-7a295d6d7991",
   "metadata": {
    "id": "ca902279-220f-40a9-bd7e-1da162ea347a"
   },
   "source": [
    "### Creating high_season feature\n",
    "\n",
    "Considered dates between: \n",
    "- 2016-12-15 to 2017-03-03 : Because minimim date is 2017-01-01\n",
    "- 2017-07-15 to 2017-07-31\n",
    "- 2017-09-11 to 2017-09-30\n",
    "- 2017-12-15 to 2018-03-03 : Because maximum date is 2017-12-31"
   ]
  },
  {
   "cell_type": "code",
   "execution_count": 50,
   "id": "1a0951ef-571b-4ea8-849a-1ee6fde1a08c",
   "metadata": {
    "id": "95ee6264-6110-4d58-b4e5-f13020e38300"
   },
   "outputs": [],
   "source": [
    "fil1 = ((data[\"Fecha-I\"]>=pd.Timestamp(\"2016-12-15\")) & (data[\"Fecha-I\"]<=pd.Timestamp(\"2017-03-03\"))) | ((data[\"Fecha-I\"]>=pd.Timestamp(\"2017-07-15\")) & (data[\"Fecha-I\"]<=pd.Timestamp(\"2017-07-31\"))) | ((data[\"Fecha-I\"]>=pd.Timestamp(\"2017-09-11\")) & (data[\"Fecha-I\"]<=pd.Timestamp(\"2017-09-30\"))) | ((data[\"Fecha-I\"]>=pd.Timestamp(\"2017-12-15\")) & (data[\"Fecha-I\"]<=pd.Timestamp(\"2018-03-03\")))\n",
    "data['high_season'] = fil1\n",
    "data['high_season'] = data['high_season'].replace([True, False],[1,0])"
   ]
  },
  {
   "cell_type": "markdown",
   "id": "96d60065-9488-404b-b15d-b1576d1d2ea9",
   "metadata": {
    "id": "e0d043c7-bafe-4b49-be94-d51482cfb1ba"
   },
   "source": [
    "### Creating minimum difference feature\n",
    "\n",
    "Difference in minutes between Date-O and Date-I"
   ]
  },
  {
   "cell_type": "code",
   "execution_count": 51,
   "id": "76c9fa6f-da95-4b6c-a905-abd6c011b04a",
   "metadata": {
    "id": "521a2b7c-3819-411d-a99f-773c9840ccbd"
   },
   "outputs": [],
   "source": [
    "data[\"min_diff\"] = (data['Fecha-O']-data['Fecha-I']) / np.timedelta64(1,'m')"
   ]
  },
  {
   "cell_type": "markdown",
   "id": "de162a06-df51-45af-9f1c-06972bb2fc53",
   "metadata": {
    "id": "e9f20057-ff57-416f-9f20-d5a6ef9e7b9f"
   },
   "source": [
    "### Creating Delay feature"
   ]
  },
  {
   "cell_type": "code",
   "execution_count": 52,
   "id": "5efa3d42-2c46-41a7-bf25-fca59f72080e",
   "metadata": {
    "id": "f61db87d-da79-4a4f-ae9a-87a84552c02b"
   },
   "outputs": [],
   "source": [
    "data[\"delay_15\"] = data[\"min_diff\"]>15\n",
    "data[\"delay_15\"] = data[\"delay_15\"].replace([True, False],[1,0])"
   ]
  },
  {
   "cell_type": "markdown",
   "id": "a64046a5-1ff7-412b-b8d0-c54221fed2ce",
   "metadata": {
    "id": "6792a011-3efd-4ab3-bca2-80f6b0f2b21a"
   },
   "source": [
    "### Creating period of the day feature"
   ]
  },
  {
   "cell_type": "code",
   "execution_count": 53,
   "id": "a7dbd4dd-e8df-44ee-93db-11af7f53b25d",
   "metadata": {
    "colab": {
     "base_uri": "https://localhost:8080/",
     "height": 490
    },
    "id": "3d494159-2a6b-4db6-8850-a6d2c6e73c7e",
    "outputId": "e3abe54c-5a51-49b8-b6de-b9e18a73a025",
    "tags": []
   },
   "outputs": [],
   "source": [
    "data3 = pd.DataFrame()\n",
    "data3['Date-I'] = data[\"Fecha-I\"]\n",
    "data3.set_index(\"Date-I\", drop=False, inplace=True)\n",
    "data3.loc[data3.between_time(\"05:00\",\"11:59\").index, \"period_day\"] = \"morning\"\n",
    "data3.loc[data3.between_time(\"12:00\",\"18:59\").index, \"period_day\"] = \"afternoon\"\n",
    "data3.loc[data3.between_time(\"19:00\",\"04:59\").index, \"period_day\"] = \"night\"\n",
    "data[\"period_day\"] = data3[\"period_day\"].values"
   ]
  },
  {
   "cell_type": "markdown",
   "id": "ab1f0429-0086-49b1-b0af-96c2f6dbb960",
   "metadata": {
    "id": "24ed04dd-58ec-454b-ab57-826ffd2186f7"
   },
   "source": [
    "**Decisions**\n",
    "\n",
    "- Drop Fecha-I and Fecha-O features because information this two features contained like delay time, season time, are extracted in new features. No need to repeat same information. Additionally, Fecha-I and Fecha-O are Timestamp and we require numerical data to train the model. \n",
    "- Drop Ori-I, Ori-O, and SIGLAORI features because it contains only one value. It will not contribute to learn any data patterns while training the model.\n",
    "\n",
    "### Creating destination difference and flight difference features\n",
    "\n",
    "- When scheduled flight code is different from operated flight, there are chances of delay. \n",
    "- When scheduled destination city code is different from operated city code, there are chances of delay."
   ]
  },
  {
   "cell_type": "code",
   "execution_count": 54,
   "id": "bbe09fff-d19c-44cd-94a4-8f18bf2b4129",
   "metadata": {},
   "outputs": [],
   "source": [
    "# Categories cannot be compared with each other, if # of categories are not same. So, converted into string\n",
    "data['Des-I'] = data['Des-I'].astype(\"string\")\n",
    "data['Des-O'] = data['Des-O'].astype(\"string\")\n",
    "data['Emp-I'] = data['Emp-I'].astype(\"string\")\n",
    "data['Emp-O'] = data['Emp-O'].astype(\"string\")\n",
    "\n",
    "# Destination difference feature\n",
    "fil2 = (data['Des-I'] != data['Des-O'])\n",
    "data['desti_diff'] = fil2\n",
    "data['desti_diff'] = data['desti_diff'].replace([True, False],[1,0])\n",
    "\n",
    "# Flight difference feature\n",
    "fil3 = (data['Emp-I'] != data['Emp-O'])\n",
    "data['flight_diff'] = fil3\n",
    "data['flight_diff'] = data['flight_diff'].replace([True, False],[1,0])\n",
    "\n",
    "# Category dtype consumes less memory and useful for one-hot encoding in future.\n",
    "data['Des-I'] = data['Des-I'].astype(\"category\")\n",
    "data['Des-O'] = data['Des-O'].astype(\"category\")\n",
    "data['Emp-I'] = data['Emp-I'].astype(\"category\")\n",
    "data['Emp-O'] = data['Emp-O'].astype(\"category\")"
   ]
  },
  {
   "cell_type": "markdown",
   "id": "daca83cd-4910-436f-8864-5dcaac443e38",
   "metadata": {
    "id": "51e25767-82ba-40c0-8999-a7bb8ef1077b"
   },
   "source": [
    "#### Exporting synthetic features"
   ]
  },
  {
   "cell_type": "code",
   "execution_count": 55,
   "id": "dcc00735-0ec7-4368-828d-04ea3be363d3",
   "metadata": {
    "id": "zVMMVkwJZXRb"
   },
   "outputs": [],
   "source": [
    "data[['high_season','min_diff','delay_15','period_day']].to_csv(\"data/synthetic_features.csv\")"
   ]
  },
  {
   "cell_type": "code",
   "execution_count": null,
   "id": "fee7bfb3-e531-4844-a445-cb2cbecda697",
   "metadata": {},
   "outputs": [],
   "source": []
  }
 ],
 "metadata": {
  "kernelspec": {
   "display_name": "Python 3",
   "language": "python",
   "name": "python3"
  },
  "language_info": {
   "codemirror_mode": {
    "name": "ipython",
    "version": 3
   },
   "file_extension": ".py",
   "mimetype": "text/x-python",
   "name": "python",
   "nbconvert_exporter": "python",
   "pygments_lexer": "ipython3",
   "version": "3.8.5"
  }
 },
 "nbformat": 4,
 "nbformat_minor": 5
}
